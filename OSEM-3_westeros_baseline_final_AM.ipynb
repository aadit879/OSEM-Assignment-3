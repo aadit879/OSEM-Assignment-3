{
 "cells": [
  {
   "cell_type": "markdown",
   "id": "551ceec6",
   "metadata": {},
   "source": [
    "# OSEM- Assignment 3\n",
    "Aadit Malla"
   ]
  },
  {
   "cell_type": "markdown",
   "id": "9eff8197",
   "metadata": {},
   "source": [
    "## 1. Adding new technology LED"
   ]
  },
  {
   "cell_type": "code",
   "execution_count": 1,
   "id": "1a1d6925",
   "metadata": {},
   "outputs": [
    {
     "data": {
      "application/javascript": [
       "if (typeof IPython !== 'undefined') { IPython.OutputArea.prototype._should_scroll = function(lines){ return false; }}"
      ],
      "text/plain": [
       "<IPython.core.display.Javascript object>"
      ]
     },
     "metadata": {},
     "output_type": "display_data"
    }
   ],
   "source": [
    "import pandas as pd\n",
    "import ixmp\n",
    "import message_ix\n",
    "\n",
    "from message_ix.utils import make_df\n",
    "\n",
    "%matplotlib inline"
   ]
  },
  {
   "cell_type": "code",
   "execution_count": 2,
   "id": "022ceaed",
   "metadata": {},
   "outputs": [],
   "source": [
    "mp = ixmp.Platform()"
   ]
  },
  {
   "cell_type": "code",
   "execution_count": 3,
   "id": "52f38ac6",
   "metadata": {},
   "outputs": [],
   "source": [
    "scenario = message_ix.Scenario(\n",
    "    mp, model=\"Westeros Electrified\", scenario=\"baseline\", version=\"new\"\n",
    ")"
   ]
  },
  {
   "cell_type": "code",
   "execution_count": 4,
   "id": "5fb8e5b3",
   "metadata": {},
   "outputs": [],
   "source": [
    "history = [690]\n",
    "model_horizon = [700, 710, 720]\n",
    "scenario.add_horizon(year=history + model_horizon, firstmodelyear=model_horizon[0])"
   ]
  },
  {
   "cell_type": "code",
   "execution_count": 5,
   "id": "cba62909",
   "metadata": {},
   "outputs": [],
   "source": [
    "country = \"Westeros\"\n",
    "scenario.add_spatial_sets({\"country\": country})"
   ]
  },
  {
   "cell_type": "code",
   "execution_count": 6,
   "id": "a4a911ac",
   "metadata": {},
   "outputs": [],
   "source": [
    "scenario.add_set(\"commodity\", [\"electricity\", \"light\"])\n",
    "scenario.add_set(\"level\", [\"secondary\", \"final\",\"useful\"])\n",
    "scenario.add_set(\"technology\", [\"coal_ppl\", \"wind_ppl\",\"grid\",\"bulb\",\"LED\"])#LED added to the technology list\n",
    "scenario.add_set(\"mode\", \"standard\")"
   ]
  },
  {
   "cell_type": "code",
   "execution_count": 7,
   "id": "52aa8203",
   "metadata": {},
   "outputs": [
    {
     "data": {
      "text/plain": [
       "<AxesSubplot:title={'center':'GDP profile'}, xlabel='Time'>"
      ]
     },
     "execution_count": 7,
     "metadata": {},
     "output_type": "execute_result"
    },
    {
     "data": {
      "image/png": "[encoded data removed]",
      "text/plain": [
       "<Figure size 432x288 with 1 Axes>"
      ]
     },
     "metadata": {
      "needs_background": "light"
     },
     "output_type": "display_data"
    }
   ],
   "source": [
    "gdp_profile = pd.Series([1.0, 1.5, 1.9], index=pd.Index(model_horizon, name=\"Time\"))\n",
    "gdp_profile.plot(title=\"GDP profile\")"
   ]
  },
  {
   "cell_type": "code",
   "execution_count": 8,
   "id": "959619a6",
   "metadata": {},
   "outputs": [],
   "source": [
    "demand_per_year = 40 * 12 * 1000 / 8760\n",
    "light_demand = pd.DataFrame(\n",
    "    {\n",
    "       \"node\": country,\n",
    "        \"commodity\": \"light\",\n",
    "        \"level\": \"useful\",\n",
    "        \"year\": model_horizon,\n",
    "        \"time\": \"year\",\n",
    "        \"value\": (demand_per_year * gdp_profile).round(),\n",
    "        \"unit\": \"GWa\",\n",
    "    }\n",
    ")\n",
    "scenario.add_par(\"demand\", light_demand)"
   ]
  },
  {
   "cell_type": "code",
   "execution_count": 9,
   "id": "ee4ad466",
   "metadata": {},
   "outputs": [],
   "source": [
    "year_df = scenario.vintage_and_active_years()\n",
    "vintage_years, act_years = year_df[\"year_vtg\"], year_df[\"year_act\"]\n",
    "\n",
    "# Some common values to be used for both the \"input\" and \"output\" parameters\n",
    "base = dict(\n",
    "    node_loc=country,\n",
    "    year_vtg=vintage_years,\n",
    "    year_act=act_years,\n",
    "    mode=\"standard\",\n",
    "    time=\"year\",\n",
    "    unit=\"-\",\n",
    ")\n",
    "\n",
    "# Use the message_ix utility function make_df() to create a base data frame for\n",
    "# different \"input\" parameter values\n",
    "base_input = make_df(\"input\", **base, node_origin=country, time_origin=\"year\")\n",
    "\n",
    "# Create a base data frame for different \"output\" parameter values\n",
    "base_output = make_df(\"output\", **base, node_dest=country, time_dest=\"year\")"
   ]
  },
  {
   "cell_type": "code",
   "execution_count": 10,
   "id": "f58e7434",
   "metadata": {},
   "outputs": [],
   "source": [
    "## Bulb in this exercise is assumed to be incandescent bulb\n",
    "\n",
    "bulb_out = base_output.assign(\n",
    "    technology=\"bulb\", commodity=\"light\", level=\"useful\", value = 1.0\n",
    ")\n",
    "scenario.add_par(\"output\", bulb_out)\n",
    "\n",
    "bulb_in = base_input.assign(\n",
    "    technology=\"bulb\", commodity=\"electricity\", level=\"final\", value=1.0\n",
    ")\n",
    "scenario.add_par(\"input\", bulb_in)"
   ]
  },
  {
   "cell_type": "code",
   "execution_count": 11,
   "id": "1e93f926",
   "metadata": {},
   "outputs": [],
   "source": [
    "### adding the LED bulb -AM\n",
    "\n",
    "## LED output is relatively 75% more efficeint than an incandescent bulb. However, the efficeiny increase had\n",
    "## to be limited to 10%, otherwise the model selects LED in the baseline due to its much higher benifits.\n",
    "\n",
    "led_out = base_output.assign(\n",
    "    technology=\"LED\", commodity=\"light\", level=\"useful\", \n",
    "    value= 1.1\n",
    ")\n",
    "scenario.add_par(\"output\", led_out)\n",
    "\n",
    "led_in = base_input.assign(\n",
    "    technology=\"LED\", commodity=\"electricity\", level=\"final\", value=1.0\n",
    ")\n",
    "\n",
    "scenario.add_par(\"input\", led_in)"
   ]
  },
  {
   "cell_type": "code",
   "execution_count": 12,
   "id": "f4307ef3",
   "metadata": {},
   "outputs": [],
   "source": [
    "grid_efficiency = 0.9\n",
    "grid_out = base_output.assign(\n",
    "    technology=\"grid\",\n",
    "    commodity=\"electricity\",\n",
    "    level=\"final\",\n",
    "    value=grid_efficiency,\n",
    ")\n",
    "scenario.add_par(\"output\", grid_out)\n",
    "\n",
    "grid_in = base_input.assign(\n",
    "    technology=\"grid\", commodity=\"electricity\", level=\"secondary\", value=1.0\n",
    ")\n",
    "scenario.add_par(\"input\", grid_in)"
   ]
  },
  {
   "cell_type": "code",
   "execution_count": 13,
   "id": "3ef7c42c",
   "metadata": {},
   "outputs": [],
   "source": [
    "coal_out = base_output.assign(\n",
    "    technology=\"coal_ppl\",\n",
    "    commodity=\"electricity\",\n",
    "    level=\"secondary\",\n",
    "    value=1.0,\n",
    "    unit=\"GWa\",\n",
    ")\n",
    "scenario.add_par(\"output\", coal_out)\n",
    "\n",
    "wind_out = base_output.assign(\n",
    "    technology=\"wind_ppl\",\n",
    "    commodity=\"electricity\",\n",
    "    level=\"secondary\",\n",
    "    value=1.0,\n",
    "    unit=\"GWa\",\n",
    ")\n",
    "scenario.add_par(\"output\", wind_out)"
   ]
  },
  {
   "cell_type": "code",
   "execution_count": 14,
   "id": "e0e86420",
   "metadata": {},
   "outputs": [],
   "source": [
    "capacity_factor = {\n",
    "    \"coal_ppl\": 1,\n",
    "    \"wind_ppl\": 0.36,\n",
    "    \"bulb\":1,\n",
    "    \"LED\":1,\n",
    "}\n",
    "\n",
    "for tec, val in capacity_factor.items():\n",
    "    df = make_df(\n",
    "        \"capacity_factor\",\n",
    "        node_loc=country,\n",
    "        year_vtg=vintage_years,\n",
    "        year_act=act_years,\n",
    "        time=\"year\",\n",
    "        unit=\"-\",\n",
    "        technology=tec,\n",
    "        value=val,\n",
    "    )\n",
    "    scenario.add_par(\"capacity_factor\", df)"
   ]
  },
  {
   "cell_type": "code",
   "execution_count": 15,
   "id": "0489dcb8",
   "metadata": {},
   "outputs": [],
   "source": [
    "lifetime = {\n",
    "    \"coal_ppl\": 20,\n",
    "    \"wind_ppl\": 20,\n",
    "    \"bulb\":1,\n",
    "    \"LED\":10, ## minimal lifetime\n",
    "}\n",
    "\n",
    "for tec, val in lifetime.items():\n",
    "    df = make_df(\n",
    "        \"technical_lifetime\",\n",
    "        node_loc=country,\n",
    "        year_vtg=model_horizon,\n",
    "        unit=\"y\",\n",
    "        technology=tec,\n",
    "        value=val,\n",
    "    )\n",
    "    scenario.add_par(\"technical_lifetime\", df)"
   ]
  },
  {
   "cell_type": "code",
   "execution_count": 16,
   "id": "7d2afe1f",
   "metadata": {},
   "outputs": [],
   "source": [
    "growth_technologies = [\n",
    "    \"coal_ppl\",\n",
    "    \"wind_ppl\",\n",
    "]\n",
    "\n",
    "for tec in growth_technologies:\n",
    "    df = make_df(\n",
    "        \"growth_activity_up\",\n",
    "        node_loc=country,\n",
    "        year_act=model_horizon,\n",
    "        time=\"year\",\n",
    "        unit=\"-\",\n",
    "        technology=tec,\n",
    "        value=0.1,\n",
    "    )\n",
    "    scenario.add_par(\"growth_activity_up\", df)"
   ]
  },
  {
   "cell_type": "code",
   "execution_count": 17,
   "id": "f57408c9",
   "metadata": {},
   "outputs": [],
   "source": [
    "##defining the energy mix\n",
    "\n",
    "historic_demand = 0.5 * demand_per_year\n",
    "historic_generation = historic_demand / grid_efficiency\n",
    "coal_fraction = 0.6"
   ]
  },
  {
   "cell_type": "code",
   "execution_count": 18,
   "id": "437e7a43",
   "metadata": {},
   "outputs": [],
   "source": [
    "##defining the historic activity\n",
    "\n",
    "old_activity = {\n",
    "    \"coal_ppl\": coal_fraction * historic_generation,\n",
    "    \"wind_ppl\": (1 - coal_fraction) * historic_generation,\n",
    "    \"bulb\": historic_demand,\n",
    "    \"LED\":0, ## LED starts only from 1st year of the horizon\n",
    "}\n",
    "\n",
    "for tec, val in old_activity.items():\n",
    "    df = make_df(\n",
    "        \"historical_activity\",\n",
    "        node_loc=country,\n",
    "        year_act=history,\n",
    "        mode=\"standard\",\n",
    "        time=\"year\",\n",
    "        unit=\"GWa\",\n",
    "        technology=tec,\n",
    "        value=val,\n",
    "    )\n",
    "    scenario.add_par(\"historical_activity\", df)"
   ]
  },
  {
   "cell_type": "code",
   "execution_count": 19,
   "id": "a5d3a0ef",
   "metadata": {},
   "outputs": [],
   "source": [
    "### new capacity\n",
    "for tec in old_activity:\n",
    "    value = old_activity[tec] / (1 * 10 * capacity_factor[tec])\n",
    "    df = make_df(\n",
    "        \"historical_new_capacity\",\n",
    "        node_loc=country,\n",
    "        year_vtg=history,\n",
    "        unit=\"GWa\",\n",
    "        technology=tec,\n",
    "        value=value,\n",
    "    )\n",
    "    scenario.add_par(\"historical_new_capacity\", df)"
   ]
  },
  {
   "cell_type": "code",
   "execution_count": 20,
   "id": "9e6db19b",
   "metadata": {},
   "outputs": [],
   "source": [
    "## interst rate for minimizing costs in objective function\n",
    "\n",
    "scenario.add_par(\"interestrate\", model_horizon, value=0.05, unit=\"-\")"
   ]
  },
  {
   "cell_type": "code",
   "execution_count": 21,
   "id": "a5a37b0b",
   "metadata": {},
   "outputs": [],
   "source": [
    "##INVESTMENT\n",
    "\n",
    "# Add a new unit for ixmp to recognize as valid\n",
    "mp.add_unit(\"USD/kW\")\n",
    "\n",
    "# in $ / kW (specific investment cost)\n",
    "costs = {\n",
    "    \"coal_ppl\": 500,\n",
    "    \"wind_ppl\": 1500,\n",
    "    \"bulb\":1,\n",
    "    \"LED\":500 ## LED is expensive but 500 times is a bit too high**need to fix*\n",
    "}\n",
    "\n",
    "for tec, val in costs.items():\n",
    "    df = make_df(\n",
    "        \"inv_cost\",\n",
    "        node_loc=country,\n",
    "        year_vtg=model_horizon,\n",
    "        unit=\"USD/kW\",\n",
    "        technology=tec,\n",
    "        value=val,\n",
    "    )\n",
    "    scenario.add_par(\"inv_cost\", df)"
   ]
  },
  {
   "cell_type": "code",
   "execution_count": 22,
   "id": "fd290f88",
   "metadata": {},
   "outputs": [],
   "source": [
    "\n",
    "## FIXED O&M\n",
    "\n",
    "# in $ / kW / year (every year a fixed quantity is destinated to cover part of the O&M costs\n",
    "# based on the size of the plant, e.g. lightning, labor, scheduled maintenance, etc.)\n",
    "\n",
    "costs = {\n",
    "    \"coal_ppl\": 30,\n",
    "    \"wind_ppl\": 10,\n",
    "}\n",
    "\n",
    "for tec, val in costs.items():\n",
    "    df = make_df(\n",
    "        \"fix_cost\",\n",
    "        node_loc=country,\n",
    "        year_vtg=vintage_years,\n",
    "        year_act=act_years,\n",
    "        unit=\"USD/kWa\",\n",
    "        technology=tec,\n",
    "        value=val,\n",
    "    )\n",
    "    scenario.add_par(\"fix_cost\", df)"
   ]
  },
  {
   "cell_type": "code",
   "execution_count": 23,
   "id": "044acd04",
   "metadata": {},
   "outputs": [],
   "source": [
    "## VARIABLE O&M\n",
    "\n",
    "costs = {\n",
    "    \"coal_ppl\": 30,\n",
    "    \"grid\": 50,\n",
    "}\n",
    "\n",
    "for tec, val in costs.items():\n",
    "    df = make_df(\n",
    "        \"var_cost\",\n",
    "        node_loc=country,\n",
    "        year_vtg=vintage_years,\n",
    "        year_act=act_years,\n",
    "        mode=\"standard\",\n",
    "        time=\"year\",\n",
    "        unit=\"USD/kWa\",\n",
    "        technology=tec,\n",
    "        value=val,\n",
    "    )\n",
    "    scenario.add_par(\"var_cost\", df)"
   ]
  },
  {
   "cell_type": "code",
   "execution_count": 24,
   "id": "dc6d481d",
   "metadata": {},
   "outputs": [],
   "source": [
    "from message_ix import log\n",
    "\n",
    "log.info(f\"version number before commit(): {scenario.version}\")\n",
    "\n",
    "scenario.commit(comment=\"basic model of Westeros electrification\")\n",
    "\n",
    "log.info(f\"version number after commit(): {scenario.version}\")"
   ]
  },
  {
   "cell_type": "code",
   "execution_count": 25,
   "id": "dcded939",
   "metadata": {},
   "outputs": [],
   "source": [
    "scenario.set_as_default()"
   ]
  },
  {
   "cell_type": "code",
   "execution_count": 26,
   "id": "aa74dea8",
   "metadata": {},
   "outputs": [],
   "source": [
    "scenario.solve()"
   ]
  },
  {
   "cell_type": "code",
   "execution_count": 27,
   "id": "02b9e293",
   "metadata": {},
   "outputs": [
    {
     "data": {
      "text/plain": [
       "169146.125"
      ]
     },
     "execution_count": 27,
     "metadata": {},
     "output_type": "execute_result"
    }
   ],
   "source": [
    "scenario.var(\"OBJ\")[\"lvl\"]"
   ]
  },
  {
   "cell_type": "markdown",
   "id": "ea942dee",
   "metadata": {},
   "source": [
    "### Plotting the Results"
   ]
  },
  {
   "cell_type": "code",
   "execution_count": 28,
   "id": "5905762a",
   "metadata": {},
   "outputs": [],
   "source": [
    "from message_ix.reporting import Reporter\n",
    "\n",
    "rep = Reporter.from_scenario(scenario)\n",
    "\n",
    "# Add keys like \"plot activity\" to describe reporting operations.\n",
    "# See tutorial/utils/plotting.py\n",
    "from message_ix.util.tutorial import prepare_plots\n",
    "\n",
    "prepare_plots(rep)"
   ]
  },
  {
   "cell_type": "code",
   "execution_count": 29,
   "id": "d037035d",
   "metadata": {},
   "outputs": [],
   "source": [
    "#rep.get('all')"
   ]
  },
  {
   "cell_type": "markdown",
   "id": "d53fe828",
   "metadata": {},
   "source": [
    "##### Contribution of the generation technologies on the activity"
   ]
  },
  {
   "cell_type": "code",
   "execution_count": 30,
   "id": "63bc89d7",
   "metadata": {
    "scrolled": false
   },
   "outputs": [
    {
     "data": {
      "text/plain": [
       "<AxesSubplot:title={'center':'Westeros Energy System Activity'}, xlabel='Year', ylabel='GWa'>"
      ]
     },
     "execution_count": 30,
     "metadata": {},
     "output_type": "execute_result"
    },
    {
     "data": {
      "image/png": "[encoded data removed]",
      "text/plain": [
       "<Figure size 432x288 with 1 Axes>"
      ]
     },
     "metadata": {
      "needs_background": "light"
     },
     "output_type": "display_data"
    }
   ],
   "source": [
    "rep.set_filters(t=[\"coal_ppl\", \"wind_ppl\"])\n",
    "rep.get(\"plot activity\")"
   ]
  },
  {
   "cell_type": "markdown",
   "id": "e117bc3a",
   "metadata": {},
   "source": [
    "##### Contribution of end-use technologies on the activity\n",
    "Considering the high price of the LED, all year generation are expected to be covered with bulbs"
   ]
  },
  {
   "cell_type": "code",
   "execution_count": 31,
   "id": "8c329fb8",
   "metadata": {
    "scrolled": true
   },
   "outputs": [
    {
     "data": {
      "text/plain": [
       "<AxesSubplot:title={'center':'Westeros Energy System Activity'}, xlabel='Year', ylabel='GWa'>"
      ]
     },
     "execution_count": 31,
     "metadata": {},
     "output_type": "execute_result"
    },
    {
     "data": {
      "image/png": "[encoded data removed]",
      "text/plain": [
       "<Figure size 432x288 with 1 Axes>"
      ]
     },
     "metadata": {
      "needs_background": "light"
     },
     "output_type": "display_data"
    }
   ],
   "source": [
    "rep.set_filters(t=[\"bulb\", \"LED\"])\n",
    "rep.get(\"plot activity\")"
   ]
  },
  {
   "cell_type": "code",
   "execution_count": 32,
   "id": "b08a7369",
   "metadata": {
    "scrolled": true
   },
   "outputs": [
    {
     "data": {
      "text/html": [
       "<div>\n",
       "<style scoped>\n",
       "    .dataframe tbody tr th:only-of-type {\n",
       "        vertical-align: middle;\n",
       "    }\n",
       "\n",
       "    .dataframe tbody tr th {\n",
       "        vertical-align: top;\n",
       "    }\n",
       "\n",
       "    .dataframe thead th {\n",
       "        text-align: right;\n",
       "    }\n",
       "</style>\n",
       "<table border=\"1\" class=\"dataframe\">\n",
       "  <thead>\n",
       "    <tr style=\"text-align: right;\">\n",
       "      <th></th>\n",
       "      <th>node_loc</th>\n",
       "      <th>technology</th>\n",
       "      <th>year_vtg</th>\n",
       "      <th>year_act</th>\n",
       "      <th>mode</th>\n",
       "      <th>time</th>\n",
       "      <th>lvl</th>\n",
       "      <th>mrg</th>\n",
       "    </tr>\n",
       "  </thead>\n",
       "  <tbody>\n",
       "    <tr>\n",
       "      <th>0</th>\n",
       "      <td>Westeros</td>\n",
       "      <td>coal_ppl</td>\n",
       "      <td>690</td>\n",
       "      <td>700</td>\n",
       "      <td>standard</td>\n",
       "      <td>year</td>\n",
       "      <td>18.264840</td>\n",
       "      <td>0.000000</td>\n",
       "    </tr>\n",
       "    <tr>\n",
       "      <th>1</th>\n",
       "      <td>Westeros</td>\n",
       "      <td>coal_ppl</td>\n",
       "      <td>700</td>\n",
       "      <td>700</td>\n",
       "      <td>standard</td>\n",
       "      <td>year</td>\n",
       "      <td>29.109451</td>\n",
       "      <td>0.000000</td>\n",
       "    </tr>\n",
       "    <tr>\n",
       "      <th>2</th>\n",
       "      <td>Westeros</td>\n",
       "      <td>coal_ppl</td>\n",
       "      <td>700</td>\n",
       "      <td>710</td>\n",
       "      <td>standard</td>\n",
       "      <td>year</td>\n",
       "      <td>29.109451</td>\n",
       "      <td>0.000000</td>\n",
       "    </tr>\n",
       "    <tr>\n",
       "      <th>3</th>\n",
       "      <td>Westeros</td>\n",
       "      <td>coal_ppl</td>\n",
       "      <td>710</td>\n",
       "      <td>710</td>\n",
       "      <td>standard</td>\n",
       "      <td>year</td>\n",
       "      <td>62.001660</td>\n",
       "      <td>0.000000</td>\n",
       "    </tr>\n",
       "    <tr>\n",
       "      <th>4</th>\n",
       "      <td>Westeros</td>\n",
       "      <td>coal_ppl</td>\n",
       "      <td>710</td>\n",
       "      <td>720</td>\n",
       "      <td>standard</td>\n",
       "      <td>year</td>\n",
       "      <td>62.001660</td>\n",
       "      <td>0.000000</td>\n",
       "    </tr>\n",
       "    <tr>\n",
       "      <th>5</th>\n",
       "      <td>Westeros</td>\n",
       "      <td>coal_ppl</td>\n",
       "      <td>720</td>\n",
       "      <td>720</td>\n",
       "      <td>standard</td>\n",
       "      <td>year</td>\n",
       "      <td>53.553896</td>\n",
       "      <td>0.000000</td>\n",
       "    </tr>\n",
       "    <tr>\n",
       "      <th>6</th>\n",
       "      <td>Westeros</td>\n",
       "      <td>wind_ppl</td>\n",
       "      <td>690</td>\n",
       "      <td>700</td>\n",
       "      <td>standard</td>\n",
       "      <td>year</td>\n",
       "      <td>12.176560</td>\n",
       "      <td>0.000000</td>\n",
       "    </tr>\n",
       "    <tr>\n",
       "      <th>7</th>\n",
       "      <td>Westeros</td>\n",
       "      <td>wind_ppl</td>\n",
       "      <td>700</td>\n",
       "      <td>700</td>\n",
       "      <td>standard</td>\n",
       "      <td>year</td>\n",
       "      <td>0.000000</td>\n",
       "      <td>0.000000</td>\n",
       "    </tr>\n",
       "    <tr>\n",
       "      <th>8</th>\n",
       "      <td>Westeros</td>\n",
       "      <td>wind_ppl</td>\n",
       "      <td>700</td>\n",
       "      <td>710</td>\n",
       "      <td>standard</td>\n",
       "      <td>year</td>\n",
       "      <td>0.000000</td>\n",
       "      <td>0.000000</td>\n",
       "    </tr>\n",
       "    <tr>\n",
       "      <th>9</th>\n",
       "      <td>Westeros</td>\n",
       "      <td>wind_ppl</td>\n",
       "      <td>710</td>\n",
       "      <td>710</td>\n",
       "      <td>standard</td>\n",
       "      <td>year</td>\n",
       "      <td>0.000000</td>\n",
       "      <td>0.000000</td>\n",
       "    </tr>\n",
       "    <tr>\n",
       "      <th>10</th>\n",
       "      <td>Westeros</td>\n",
       "      <td>wind_ppl</td>\n",
       "      <td>710</td>\n",
       "      <td>720</td>\n",
       "      <td>standard</td>\n",
       "      <td>year</td>\n",
       "      <td>0.000000</td>\n",
       "      <td>0.000000</td>\n",
       "    </tr>\n",
       "    <tr>\n",
       "      <th>11</th>\n",
       "      <td>Westeros</td>\n",
       "      <td>wind_ppl</td>\n",
       "      <td>720</td>\n",
       "      <td>720</td>\n",
       "      <td>standard</td>\n",
       "      <td>year</td>\n",
       "      <td>0.000000</td>\n",
       "      <td>555.065701</td>\n",
       "    </tr>\n",
       "    <tr>\n",
       "      <th>12</th>\n",
       "      <td>Westeros</td>\n",
       "      <td>grid</td>\n",
       "      <td>700</td>\n",
       "      <td>700</td>\n",
       "      <td>standard</td>\n",
       "      <td>year</td>\n",
       "      <td>59.550852</td>\n",
       "      <td>0.000000</td>\n",
       "    </tr>\n",
       "    <tr>\n",
       "      <th>13</th>\n",
       "      <td>Westeros</td>\n",
       "      <td>grid</td>\n",
       "      <td>710</td>\n",
       "      <td>710</td>\n",
       "      <td>standard</td>\n",
       "      <td>year</td>\n",
       "      <td>91.111111</td>\n",
       "      <td>0.000000</td>\n",
       "    </tr>\n",
       "    <tr>\n",
       "      <th>14</th>\n",
       "      <td>Westeros</td>\n",
       "      <td>grid</td>\n",
       "      <td>720</td>\n",
       "      <td>720</td>\n",
       "      <td>standard</td>\n",
       "      <td>year</td>\n",
       "      <td>115.555556</td>\n",
       "      <td>0.000000</td>\n",
       "    </tr>\n",
       "    <tr>\n",
       "      <th>15</th>\n",
       "      <td>Westeros</td>\n",
       "      <td>bulb</td>\n",
       "      <td>700</td>\n",
       "      <td>700</td>\n",
       "      <td>standard</td>\n",
       "      <td>year</td>\n",
       "      <td>39.553431</td>\n",
       "      <td>0.000000</td>\n",
       "    </tr>\n",
       "    <tr>\n",
       "      <th>16</th>\n",
       "      <td>Westeros</td>\n",
       "      <td>bulb</td>\n",
       "      <td>710</td>\n",
       "      <td>710</td>\n",
       "      <td>standard</td>\n",
       "      <td>year</td>\n",
       "      <td>82.000000</td>\n",
       "      <td>0.000000</td>\n",
       "    </tr>\n",
       "    <tr>\n",
       "      <th>17</th>\n",
       "      <td>Westeros</td>\n",
       "      <td>bulb</td>\n",
       "      <td>720</td>\n",
       "      <td>720</td>\n",
       "      <td>standard</td>\n",
       "      <td>year</td>\n",
       "      <td>104.000000</td>\n",
       "      <td>0.000000</td>\n",
       "    </tr>\n",
       "    <tr>\n",
       "      <th>18</th>\n",
       "      <td>Westeros</td>\n",
       "      <td>LED</td>\n",
       "      <td>700</td>\n",
       "      <td>700</td>\n",
       "      <td>standard</td>\n",
       "      <td>year</td>\n",
       "      <td>14.042335</td>\n",
       "      <td>0.000000</td>\n",
       "    </tr>\n",
       "    <tr>\n",
       "      <th>19</th>\n",
       "      <td>Westeros</td>\n",
       "      <td>LED</td>\n",
       "      <td>710</td>\n",
       "      <td>710</td>\n",
       "      <td>standard</td>\n",
       "      <td>year</td>\n",
       "      <td>0.000000</td>\n",
       "      <td>157.365040</td>\n",
       "    </tr>\n",
       "    <tr>\n",
       "      <th>20</th>\n",
       "      <td>Westeros</td>\n",
       "      <td>LED</td>\n",
       "      <td>720</td>\n",
       "      <td>720</td>\n",
       "      <td>standard</td>\n",
       "      <td>year</td>\n",
       "      <td>0.000000</td>\n",
       "      <td>96.910250</td>\n",
       "    </tr>\n",
       "  </tbody>\n",
       "</table>\n",
       "</div>"
      ],
      "text/plain": [
       "    node_loc technology  year_vtg  year_act      mode  time         lvl  \\\n",
       "0   Westeros   coal_ppl       690       700  standard  year   18.264840   \n",
       "1   Westeros   coal_ppl       700       700  standard  year   29.109451   \n",
       "2   Westeros   coal_ppl       700       710  standard  year   29.109451   \n",
       "3   Westeros   coal_ppl       710       710  standard  year   62.001660   \n",
       "4   Westeros   coal_ppl       710       720  standard  year   62.001660   \n",
       "5   Westeros   coal_ppl       720       720  standard  year   53.553896   \n",
       "6   Westeros   wind_ppl       690       700  standard  year   12.176560   \n",
       "7   Westeros   wind_ppl       700       700  standard  year    0.000000   \n",
       "8   Westeros   wind_ppl       700       710  standard  year    0.000000   \n",
       "9   Westeros   wind_ppl       710       710  standard  year    0.000000   \n",
       "10  Westeros   wind_ppl       710       720  standard  year    0.000000   \n",
       "11  Westeros   wind_ppl       720       720  standard  year    0.000000   \n",
       "12  Westeros       grid       700       700  standard  year   59.550852   \n",
       "13  Westeros       grid       710       710  standard  year   91.111111   \n",
       "14  Westeros       grid       720       720  standard  year  115.555556   \n",
       "15  Westeros       bulb       700       700  standard  year   39.553431   \n",
       "16  Westeros       bulb       710       710  standard  year   82.000000   \n",
       "17  Westeros       bulb       720       720  standard  year  104.000000   \n",
       "18  Westeros        LED       700       700  standard  year   14.042335   \n",
       "19  Westeros        LED       710       710  standard  year    0.000000   \n",
       "20  Westeros        LED       720       720  standard  year    0.000000   \n",
       "\n",
       "           mrg  \n",
       "0     0.000000  \n",
       "1     0.000000  \n",
       "2     0.000000  \n",
       "3     0.000000  \n",
       "4     0.000000  \n",
       "5     0.000000  \n",
       "6     0.000000  \n",
       "7     0.000000  \n",
       "8     0.000000  \n",
       "9     0.000000  \n",
       "10    0.000000  \n",
       "11  555.065701  \n",
       "12    0.000000  \n",
       "13    0.000000  \n",
       "14    0.000000  \n",
       "15    0.000000  \n",
       "16    0.000000  \n",
       "17    0.000000  \n",
       "18    0.000000  \n",
       "19  157.365040  \n",
       "20   96.910250  "
      ]
     },
     "execution_count": 32,
     "metadata": {},
     "output_type": "execute_result"
    }
   ],
   "source": [
    "scenario.var('ACT')"
   ]
  },
  {
   "cell_type": "markdown",
   "id": "07f5336b",
   "metadata": {},
   "source": [
    "##### Capacity\n",
    "\n",
    "How much capacity of each plant is installed in each period?"
   ]
  },
  {
   "cell_type": "code",
   "execution_count": 33,
   "id": "43ebeaee",
   "metadata": {
    "scrolled": true
   },
   "outputs": [
    {
     "data": {
      "text/plain": [
       "<AxesSubplot:title={'center':'Westeros Energy System Capacity'}, xlabel='Year', ylabel='GW'>"
      ]
     },
     "execution_count": 33,
     "metadata": {},
     "output_type": "execute_result"
    },
    {
     "data": {
      "image/png": "[encoded data removed]",
      "text/plain": [
       "<Figure size 432x288 with 1 Axes>"
      ]
     },
     "metadata": {
      "needs_background": "light"
     },
     "output_type": "display_data"
    }
   ],
   "source": [
    "rep.set_filters(t=[\"coal_ppl\", \"wind_ppl\"])\n",
    "rep.get(\"plot capacity\")"
   ]
  },
  {
   "cell_type": "markdown",
   "id": "7233974b",
   "metadata": {},
   "source": [
    "##### New capacity\n",
    "\n",
    "How much new capacity is installed in each period? Notice that the new installed capacity requires additional investments."
   ]
  },
  {
   "cell_type": "code",
   "execution_count": 34,
   "id": "0c029be2",
   "metadata": {
    "scrolled": true
   },
   "outputs": [
    {
     "data": {
      "text/plain": [
       "<AxesSubplot:title={'center':'Westeros Energy System New Capacity'}, xlabel='Year', ylabel='GWa'>"
      ]
     },
     "execution_count": 34,
     "metadata": {},
     "output_type": "execute_result"
    },
    {
     "data": {
      "image/png": "[encoded data removed]",
      "text/plain": [
       "<Figure size 432x288 with 1 Axes>"
      ]
     },
     "metadata": {
      "needs_background": "light"
     },
     "output_type": "display_data"
    }
   ],
   "source": [
    "rep.get(\"plot new capacity\")"
   ]
  },
  {
   "cell_type": "markdown",
   "id": "27d03af0",
   "metadata": {},
   "source": [
    "##### Electricity Prices\n"
   ]
  },
  {
   "cell_type": "code",
   "execution_count": 35,
   "id": "304ed236",
   "metadata": {
    "scrolled": true
   },
   "outputs": [
    {
     "data": {
      "text/plain": [
       "<AxesSubplot:title={'center':'Westeros Energy System Prices'}, xlabel='Year', ylabel='¢/kW·h'>"
      ]
     },
     "execution_count": 35,
     "metadata": {},
     "output_type": "execute_result"
    },
    {
     "data": {
      "image/png": "[encoded data removed]",
      "text/plain": [
       "<Figure size 432x288 with 1 Axes>"
      ]
     },
     "metadata": {
      "needs_background": "light"
     },
     "output_type": "display_data"
    }
   ],
   "source": [
    "# Replace the technology filters with a commodity filter;\n",
    "# show only \"light\" and not e.g. \"electricity\".\n",
    "rep.set_filters(c=[\"light\"])\n",
    "\n",
    "# Create a price plot\n",
    "rep.get(\"plot prices\")"
   ]
  },
  {
   "cell_type": "code",
   "execution_count": 36,
   "id": "297493e0",
   "metadata": {},
   "outputs": [],
   "source": [
    "mp.close_db()"
   ]
  },
  {
   "cell_type": "code",
   "execution_count": 37,
   "id": "caf2578d",
   "metadata": {},
   "outputs": [],
   "source": [
    "#scenario.var('DEMAND')"
   ]
  },
  {
   "cell_type": "markdown",
   "id": "d7b2e853",
   "metadata": {},
   "source": [
    "## 2. Carbon Pricing "
   ]
  },
  {
   "cell_type": "markdown",
   "id": "99e1ec99",
   "metadata": {},
   "source": [
    "##### 2.1 Adding emission bounds"
   ]
  },
  {
   "cell_type": "code",
   "execution_count": 38,
   "id": "d9a5a6a1",
   "metadata": {},
   "outputs": [],
   "source": [
    "mp = ixmp.Platform()"
   ]
  },
  {
   "cell_type": "code",
   "execution_count": 39,
   "id": "d0d87051",
   "metadata": {},
   "outputs": [],
   "source": [
    "model = \"Westeros Electrified\"\n",
    "\n",
    "base = message_ix.Scenario(mp, model=model, scenario=\"baseline\")\n",
    "scen_emission = base.clone(\n",
    "    model,\n",
    "    \"emission_bound\",\n",
    "    \"introducing an upper bound on emissions\",\n",
    "    keep_solution=False,\n",
    ")\n",
    "scen_emission.check_out()"
   ]
  },
  {
   "cell_type": "code",
   "execution_count": 40,
   "id": "ba412934",
   "metadata": {},
   "outputs": [],
   "source": [
    "#introducing emission bounds\n",
    "year_df = scen_emission.vintage_and_active_years()\n",
    "vintage_years, act_years = year_df[\"year_vtg\"], year_df[\"year_act\"]\n",
    "model_horizon = scen_emission.set(\"year\")\n",
    "country = \"Westeros\""
   ]
  },
  {
   "cell_type": "code",
   "execution_count": 41,
   "id": "0109454e",
   "metadata": {},
   "outputs": [],
   "source": [
    "##introducing emissions\n",
    "# First we introduce the emission of CO2 and the emission category GHG\n",
    "scen_emission.add_set(\"emission\", \"CO2\")\n",
    "scen_emission.add_cat(\"emission\", \"GHG\", \"CO2\")\n",
    "\n",
    "# Then we add new units to the model library (needed only once)\n",
    "mp.add_unit(\"tCO2/kWa\")\n",
    "mp.add_unit(\"MtCO2\")\n",
    "\n",
    "# Last we add CO2 emissions to the coal powerplant\n",
    "emission_factor = make_df(\n",
    "    \"emission_factor\",\n",
    "    node_loc=country,\n",
    "    year_vtg=vintage_years,\n",
    "    year_act=act_years,\n",
    "    mode=\"standard\",\n",
    "    unit=\"tCO2/kWa\",\n",
    "    technology=\"coal_ppl\",\n",
    "    emission=\"CO2\",\n",
    "    value=7.4,\n",
    ")\n",
    "scen_emission.add_par(\"emission_factor\", emission_factor)"
   ]
  },
  {
   "cell_type": "markdown",
   "id": "79d81839",
   "metadata": {},
   "source": [
    "##### 2.2 Adding emission taxes"
   ]
  },
  {
   "cell_type": "code",
   "execution_count": 42,
   "id": "d1bf499e",
   "metadata": {},
   "outputs": [],
   "source": [
    "scen_bd = message_ix.Scenario(mp, model=model, scenario=\"emission_bound\")"
   ]
  },
  {
   "cell_type": "code",
   "execution_count": 43,
   "id": "220da678",
   "metadata": {},
   "outputs": [],
   "source": [
    "emissions = scen_bd.var(\"EMISS\", {\"node\": \"Westeros\"})"
   ]
  },
  {
   "cell_type": "code",
   "execution_count": 44,
   "id": "7a273335",
   "metadata": {},
   "outputs": [],
   "source": [
    "emission_prices = scen_bd.var(\"PRICE_EMISSION\")"
   ]
  },
  {
   "cell_type": "markdown",
   "id": "6f6fc58a",
   "metadata": {},
   "source": [
    "#### setting up tax instead of bound"
   ]
  },
  {
   "cell_type": "code",
   "execution_count": 45,
   "id": "f0aff893",
   "metadata": {},
   "outputs": [],
   "source": [
    "## setting up tax instead of bound\n",
    "\n",
    "scen_tax = base.clone(\n",
    "    model, \"carbon_tax\", \"introducing a carbon tax\", keep_solution=False\n",
    ")\n",
    "scen_tax.check_out()"
   ]
  },
  {
   "cell_type": "code",
   "execution_count": 46,
   "id": "ee8b9960",
   "metadata": {},
   "outputs": [],
   "source": [
    "scen_tax.add_set(\"emission\", \"CO2\")\n",
    "scen_tax.add_cat(\"emission\", \"GHG\", \"CO2\")\n",
    "scen_tax.add_par(\"emission_factor\", scen_bd.par(\"emission_factor\"))"
   ]
  },
  {
   "cell_type": "code",
   "execution_count": 47,
   "id": "625e2278",
   "metadata": {},
   "outputs": [
    {
     "data": {
      "text/html": [
       "<div>\n",
       "<style scoped>\n",
       "    .dataframe tbody tr th:only-of-type {\n",
       "        vertical-align: middle;\n",
       "    }\n",
       "\n",
       "    .dataframe tbody tr th {\n",
       "        vertical-align: top;\n",
       "    }\n",
       "\n",
       "    .dataframe thead th {\n",
       "        text-align: right;\n",
       "    }\n",
       "</style>\n",
       "<table border=\"1\" class=\"dataframe\">\n",
       "  <thead>\n",
       "    <tr style=\"text-align: right;\">\n",
       "      <th></th>\n",
       "      <th>node</th>\n",
       "      <th>type_emission</th>\n",
       "      <th>type_tec</th>\n",
       "      <th>type_year</th>\n",
       "      <th>value</th>\n",
       "      <th>unit</th>\n",
       "    </tr>\n",
       "  </thead>\n",
       "  <tbody>\n",
       "    <tr>\n",
       "      <th>0</th>\n",
       "      <td>Westeros</td>\n",
       "      <td>GHG</td>\n",
       "      <td>all</td>\n",
       "      <td>700</td>\n",
       "      <td>1000.0</td>\n",
       "      <td>USD/tCO2</td>\n",
       "    </tr>\n",
       "    <tr>\n",
       "      <th>1</th>\n",
       "      <td>Westeros</td>\n",
       "      <td>GHG</td>\n",
       "      <td>all</td>\n",
       "      <td>710</td>\n",
       "      <td>1000.0</td>\n",
       "      <td>USD/tCO2</td>\n",
       "    </tr>\n",
       "    <tr>\n",
       "      <th>2</th>\n",
       "      <td>Westeros</td>\n",
       "      <td>GHG</td>\n",
       "      <td>all</td>\n",
       "      <td>720</td>\n",
       "      <td>1000.0</td>\n",
       "      <td>USD/tCO2</td>\n",
       "    </tr>\n",
       "  </tbody>\n",
       "</table>\n",
       "</div>"
      ],
      "text/plain": [
       "       node type_emission type_tec type_year   value      unit\n",
       "0  Westeros           GHG      all       700  1000.0  USD/tCO2\n",
       "1  Westeros           GHG      all       710  1000.0  USD/tCO2\n",
       "2  Westeros           GHG      all       720  1000.0  USD/tCO2"
      ]
     },
     "execution_count": 47,
     "metadata": {},
     "output_type": "execute_result"
    }
   ],
   "source": [
    "scen_tax.add_set(\"type_year\", [700, 710, 720])\n",
    "\n",
    "# In case you need to add the new unit to the platform\n",
    "mp.add_unit(\"USD/tCO2\")\n",
    "\n",
    "tax_emission = make_df(\n",
    "    \"tax_emission\",\n",
    "    node=\"Westeros\",\n",
    "    type_year=[700, 710, 720],\n",
    "    type_tec=\"all\",\n",
    "    unit=\"USD/tCO2\",\n",
    "    type_emission=\"GHG\",\n",
    "    value=[1000,1000,1000],\n",
    "    #value=emission_prices.set_index(\"year\").lvl,\n",
    ")\n",
    "\n",
    "scen_tax.add_par(\"tax_emission\", tax_emission)\n",
    "scen_tax.par(\"tax_emission\")"
   ]
  },
  {
   "cell_type": "code",
   "execution_count": 48,
   "id": "116aacc4",
   "metadata": {},
   "outputs": [],
   "source": [
    "scen_tax.commit(comment=\"setting taxes on emissions\")\n",
    "scen_tax.solve()"
   ]
  },
  {
   "cell_type": "code",
   "execution_count": 49,
   "id": "2bc4793c",
   "metadata": {},
   "outputs": [
    {
     "data": {
      "text/plain": [
       "1762423.875"
      ]
     },
     "execution_count": 49,
     "metadata": {},
     "output_type": "execute_result"
    }
   ],
   "source": [
    "scen_tax.var(\"OBJ\")[\"lvl\"]"
   ]
  },
  {
   "cell_type": "code",
   "execution_count": 50,
   "id": "933ccff3",
   "metadata": {},
   "outputs": [
    {
     "data": {
      "text/html": [
       "<div>\n",
       "<style scoped>\n",
       "    .dataframe tbody tr th:only-of-type {\n",
       "        vertical-align: middle;\n",
       "    }\n",
       "\n",
       "    .dataframe tbody tr th {\n",
       "        vertical-align: top;\n",
       "    }\n",
       "\n",
       "    .dataframe thead th {\n",
       "        text-align: right;\n",
       "    }\n",
       "</style>\n",
       "<table border=\"1\" class=\"dataframe\">\n",
       "  <thead>\n",
       "    <tr style=\"text-align: right;\">\n",
       "      <th></th>\n",
       "      <th>node</th>\n",
       "      <th>emission</th>\n",
       "      <th>type_tec</th>\n",
       "      <th>year</th>\n",
       "      <th>lvl</th>\n",
       "      <th>mrg</th>\n",
       "    </tr>\n",
       "  </thead>\n",
       "  <tbody>\n",
       "    <tr>\n",
       "      <th>0</th>\n",
       "      <td>Westeros</td>\n",
       "      <td>CO2</td>\n",
       "      <td>all</td>\n",
       "      <td>700</td>\n",
       "      <td>177.397940</td>\n",
       "      <td>0.0</td>\n",
       "    </tr>\n",
       "    <tr>\n",
       "      <th>1</th>\n",
       "      <td>Westeros</td>\n",
       "      <td>CO2</td>\n",
       "      <td>all</td>\n",
       "      <td>710</td>\n",
       "      <td>6.737517</td>\n",
       "      <td>0.0</td>\n",
       "    </tr>\n",
       "    <tr>\n",
       "      <th>2</th>\n",
       "      <td>Westeros</td>\n",
       "      <td>CO2</td>\n",
       "      <td>all</td>\n",
       "      <td>720</td>\n",
       "      <td>0.000000</td>\n",
       "      <td>0.0</td>\n",
       "    </tr>\n",
       "  </tbody>\n",
       "</table>\n",
       "</div>"
      ],
      "text/plain": [
       "       node emission type_tec  year         lvl  mrg\n",
       "0  Westeros      CO2      all   700  177.397940  0.0\n",
       "1  Westeros      CO2      all   710    6.737517  0.0\n",
       "2  Westeros      CO2      all   720    0.000000  0.0"
      ]
     },
     "execution_count": 50,
     "metadata": {},
     "output_type": "execute_result"
    }
   ],
   "source": [
    "scen_tax.var(\"EMISS\", {\"node\": \"Westeros\"})"
   ]
  },
  {
   "cell_type": "markdown",
   "id": "9a6bc453",
   "metadata": {},
   "source": [
    "##### Plotting Again"
   ]
  },
  {
   "cell_type": "code",
   "execution_count": 51,
   "id": "62dff1ee",
   "metadata": {},
   "outputs": [],
   "source": [
    "rep2 = Reporter.from_scenario(scen_tax)\n",
    "prepare_plots(rep2)"
   ]
  },
  {
   "cell_type": "markdown",
   "id": "b3c684b8",
   "metadata": {},
   "source": [
    "##### Contribution of the generation technologies on the activity"
   ]
  },
  {
   "cell_type": "code",
   "execution_count": 52,
   "id": "76d92e95",
   "metadata": {
    "scrolled": false
   },
   "outputs": [
    {
     "data": {
      "text/plain": [
       "<AxesSubplot:title={'center':'Westeros Energy System Activity'}, xlabel='Year', ylabel='GWa'>"
      ]
     },
     "execution_count": 52,
     "metadata": {},
     "output_type": "execute_result"
    },
    {
     "data": {
      "image/png": "[encoded data removed]",
      "text/plain": [
       "<Figure size 432x288 with 1 Axes>"
      ]
     },
     "metadata": {
      "needs_background": "light"
     },
     "output_type": "display_data"
    }
   ],
   "source": [
    "rep2.set_filters(t=[\"coal_ppl\", \"wind_ppl\"])\n",
    "rep2.get(\"plot activity\")"
   ]
  },
  {
   "cell_type": "markdown",
   "id": "6207e942",
   "metadata": {},
   "source": [
    "##### Contribution of end-use technologies on the activity\n",
    "Considering the high price of the LED, all year generation are expected to be covered with bulbs"
   ]
  },
  {
   "cell_type": "code",
   "execution_count": 53,
   "id": "f67e421a",
   "metadata": {
    "scrolled": true
   },
   "outputs": [
    {
     "data": {
      "text/plain": [
       "<AxesSubplot:title={'center':'Westeros Energy System Activity'}, xlabel='Year', ylabel='GWa'>"
      ]
     },
     "execution_count": 53,
     "metadata": {},
     "output_type": "execute_result"
    },
    {
     "data": {
      "image/png": "[encoded data removed]",
      "text/plain": [
       "<Figure size 432x288 with 1 Axes>"
      ]
     },
     "metadata": {
      "needs_background": "light"
     },
     "output_type": "display_data"
    }
   ],
   "source": [
    "rep2.set_filters(t=[\"bulb\", \"LED\"])\n",
    "rep2.get(\"plot activity\")"
   ]
  },
  {
   "cell_type": "code",
   "execution_count": 54,
   "id": "4c3d4ec3",
   "metadata": {
    "scrolled": true
   },
   "outputs": [
    {
     "data": {
      "text/html": [
       "<div>\n",
       "<style scoped>\n",
       "    .dataframe tbody tr th:only-of-type {\n",
       "        vertical-align: middle;\n",
       "    }\n",
       "\n",
       "    .dataframe tbody tr th {\n",
       "        vertical-align: top;\n",
       "    }\n",
       "\n",
       "    .dataframe thead th {\n",
       "        text-align: right;\n",
       "    }\n",
       "</style>\n",
       "<table border=\"1\" class=\"dataframe\">\n",
       "  <thead>\n",
       "    <tr style=\"text-align: right;\">\n",
       "      <th></th>\n",
       "      <th>node_loc</th>\n",
       "      <th>technology</th>\n",
       "      <th>year_vtg</th>\n",
       "      <th>year_act</th>\n",
       "      <th>mode</th>\n",
       "      <th>time</th>\n",
       "      <th>lvl</th>\n",
       "      <th>mrg</th>\n",
       "    </tr>\n",
       "  </thead>\n",
       "  <tbody>\n",
       "    <tr>\n",
       "      <th>0</th>\n",
       "      <td>Westeros</td>\n",
       "      <td>coal_ppl</td>\n",
       "      <td>690</td>\n",
       "      <td>700</td>\n",
       "      <td>standard</td>\n",
       "      <td>year</td>\n",
       "      <td>18.264840</td>\n",
       "      <td>0.000000</td>\n",
       "    </tr>\n",
       "    <tr>\n",
       "      <th>1</th>\n",
       "      <td>Westeros</td>\n",
       "      <td>coal_ppl</td>\n",
       "      <td>700</td>\n",
       "      <td>700</td>\n",
       "      <td>standard</td>\n",
       "      <td>year</td>\n",
       "      <td>5.707854</td>\n",
       "      <td>0.000000</td>\n",
       "    </tr>\n",
       "    <tr>\n",
       "      <th>2</th>\n",
       "      <td>Westeros</td>\n",
       "      <td>coal_ppl</td>\n",
       "      <td>700</td>\n",
       "      <td>710</td>\n",
       "      <td>standard</td>\n",
       "      <td>year</td>\n",
       "      <td>0.910475</td>\n",
       "      <td>0.000000</td>\n",
       "    </tr>\n",
       "    <tr>\n",
       "      <th>3</th>\n",
       "      <td>Westeros</td>\n",
       "      <td>coal_ppl</td>\n",
       "      <td>710</td>\n",
       "      <td>710</td>\n",
       "      <td>standard</td>\n",
       "      <td>year</td>\n",
       "      <td>0.000000</td>\n",
       "      <td>0.000000</td>\n",
       "    </tr>\n",
       "    <tr>\n",
       "      <th>4</th>\n",
       "      <td>Westeros</td>\n",
       "      <td>coal_ppl</td>\n",
       "      <td>710</td>\n",
       "      <td>720</td>\n",
       "      <td>standard</td>\n",
       "      <td>year</td>\n",
       "      <td>0.000000</td>\n",
       "      <td>20892.237165</td>\n",
       "    </tr>\n",
       "    <tr>\n",
       "      <th>5</th>\n",
       "      <td>Westeros</td>\n",
       "      <td>coal_ppl</td>\n",
       "      <td>720</td>\n",
       "      <td>720</td>\n",
       "      <td>standard</td>\n",
       "      <td>year</td>\n",
       "      <td>0.000000</td>\n",
       "      <td>20980.715364</td>\n",
       "    </tr>\n",
       "    <tr>\n",
       "      <th>6</th>\n",
       "      <td>Westeros</td>\n",
       "      <td>wind_ppl</td>\n",
       "      <td>690</td>\n",
       "      <td>700</td>\n",
       "      <td>standard</td>\n",
       "      <td>year</td>\n",
       "      <td>12.176560</td>\n",
       "      <td>0.000000</td>\n",
       "    </tr>\n",
       "    <tr>\n",
       "      <th>7</th>\n",
       "      <td>Westeros</td>\n",
       "      <td>wind_ppl</td>\n",
       "      <td>700</td>\n",
       "      <td>700</td>\n",
       "      <td>standard</td>\n",
       "      <td>year</td>\n",
       "      <td>19.406301</td>\n",
       "      <td>0.000000</td>\n",
       "    </tr>\n",
       "    <tr>\n",
       "      <th>8</th>\n",
       "      <td>Westeros</td>\n",
       "      <td>wind_ppl</td>\n",
       "      <td>700</td>\n",
       "      <td>710</td>\n",
       "      <td>standard</td>\n",
       "      <td>year</td>\n",
       "      <td>19.406301</td>\n",
       "      <td>0.000000</td>\n",
       "    </tr>\n",
       "    <tr>\n",
       "      <th>9</th>\n",
       "      <td>Westeros</td>\n",
       "      <td>wind_ppl</td>\n",
       "      <td>710</td>\n",
       "      <td>710</td>\n",
       "      <td>standard</td>\n",
       "      <td>year</td>\n",
       "      <td>62.511507</td>\n",
       "      <td>0.000000</td>\n",
       "    </tr>\n",
       "    <tr>\n",
       "      <th>10</th>\n",
       "      <td>Westeros</td>\n",
       "      <td>wind_ppl</td>\n",
       "      <td>710</td>\n",
       "      <td>720</td>\n",
       "      <td>standard</td>\n",
       "      <td>year</td>\n",
       "      <td>62.511507</td>\n",
       "      <td>0.000000</td>\n",
       "    </tr>\n",
       "    <tr>\n",
       "      <th>11</th>\n",
       "      <td>Westeros</td>\n",
       "      <td>wind_ppl</td>\n",
       "      <td>720</td>\n",
       "      <td>720</td>\n",
       "      <td>standard</td>\n",
       "      <td>year</td>\n",
       "      <td>53.044049</td>\n",
       "      <td>0.000000</td>\n",
       "    </tr>\n",
       "    <tr>\n",
       "      <th>12</th>\n",
       "      <td>Westeros</td>\n",
       "      <td>grid</td>\n",
       "      <td>700</td>\n",
       "      <td>700</td>\n",
       "      <td>standard</td>\n",
       "      <td>year</td>\n",
       "      <td>55.555556</td>\n",
       "      <td>0.000000</td>\n",
       "    </tr>\n",
       "    <tr>\n",
       "      <th>13</th>\n",
       "      <td>Westeros</td>\n",
       "      <td>grid</td>\n",
       "      <td>710</td>\n",
       "      <td>710</td>\n",
       "      <td>standard</td>\n",
       "      <td>year</td>\n",
       "      <td>82.828283</td>\n",
       "      <td>0.000000</td>\n",
       "    </tr>\n",
       "    <tr>\n",
       "      <th>14</th>\n",
       "      <td>Westeros</td>\n",
       "      <td>grid</td>\n",
       "      <td>720</td>\n",
       "      <td>720</td>\n",
       "      <td>standard</td>\n",
       "      <td>year</td>\n",
       "      <td>115.555556</td>\n",
       "      <td>0.000000</td>\n",
       "    </tr>\n",
       "    <tr>\n",
       "      <th>15</th>\n",
       "      <td>Westeros</td>\n",
       "      <td>bulb</td>\n",
       "      <td>700</td>\n",
       "      <td>700</td>\n",
       "      <td>standard</td>\n",
       "      <td>year</td>\n",
       "      <td>0.000000</td>\n",
       "      <td>5553.331366</td>\n",
       "    </tr>\n",
       "    <tr>\n",
       "      <th>16</th>\n",
       "      <td>Westeros</td>\n",
       "      <td>bulb</td>\n",
       "      <td>710</td>\n",
       "      <td>710</td>\n",
       "      <td>standard</td>\n",
       "      <td>year</td>\n",
       "      <td>0.000000</td>\n",
       "      <td>3385.321932</td>\n",
       "    </tr>\n",
       "    <tr>\n",
       "      <th>17</th>\n",
       "      <td>Westeros</td>\n",
       "      <td>bulb</td>\n",
       "      <td>720</td>\n",
       "      <td>720</td>\n",
       "      <td>standard</td>\n",
       "      <td>year</td>\n",
       "      <td>104.000000</td>\n",
       "      <td>0.000000</td>\n",
       "    </tr>\n",
       "    <tr>\n",
       "      <th>18</th>\n",
       "      <td>Westeros</td>\n",
       "      <td>LED</td>\n",
       "      <td>700</td>\n",
       "      <td>700</td>\n",
       "      <td>standard</td>\n",
       "      <td>year</td>\n",
       "      <td>50.000000</td>\n",
       "      <td>0.000000</td>\n",
       "    </tr>\n",
       "    <tr>\n",
       "      <th>19</th>\n",
       "      <td>Westeros</td>\n",
       "      <td>LED</td>\n",
       "      <td>710</td>\n",
       "      <td>710</td>\n",
       "      <td>standard</td>\n",
       "      <td>year</td>\n",
       "      <td>74.545455</td>\n",
       "      <td>0.000000</td>\n",
       "    </tr>\n",
       "    <tr>\n",
       "      <th>20</th>\n",
       "      <td>Westeros</td>\n",
       "      <td>LED</td>\n",
       "      <td>720</td>\n",
       "      <td>720</td>\n",
       "      <td>standard</td>\n",
       "      <td>year</td>\n",
       "      <td>0.000000</td>\n",
       "      <td>35.236283</td>\n",
       "    </tr>\n",
       "  </tbody>\n",
       "</table>\n",
       "</div>"
      ],
      "text/plain": [
       "    node_loc technology  year_vtg  year_act      mode  time         lvl  \\\n",
       "0   Westeros   coal_ppl       690       700  standard  year   18.264840   \n",
       "1   Westeros   coal_ppl       700       700  standard  year    5.707854   \n",
       "2   Westeros   coal_ppl       700       710  standard  year    0.910475   \n",
       "3   Westeros   coal_ppl       710       710  standard  year    0.000000   \n",
       "4   Westeros   coal_ppl       710       720  standard  year    0.000000   \n",
       "5   Westeros   coal_ppl       720       720  standard  year    0.000000   \n",
       "6   Westeros   wind_ppl       690       700  standard  year   12.176560   \n",
       "7   Westeros   wind_ppl       700       700  standard  year   19.406301   \n",
       "8   Westeros   wind_ppl       700       710  standard  year   19.406301   \n",
       "9   Westeros   wind_ppl       710       710  standard  year   62.511507   \n",
       "10  Westeros   wind_ppl       710       720  standard  year   62.511507   \n",
       "11  Westeros   wind_ppl       720       720  standard  year   53.044049   \n",
       "12  Westeros       grid       700       700  standard  year   55.555556   \n",
       "13  Westeros       grid       710       710  standard  year   82.828283   \n",
       "14  Westeros       grid       720       720  standard  year  115.555556   \n",
       "15  Westeros       bulb       700       700  standard  year    0.000000   \n",
       "16  Westeros       bulb       710       710  standard  year    0.000000   \n",
       "17  Westeros       bulb       720       720  standard  year  104.000000   \n",
       "18  Westeros        LED       700       700  standard  year   50.000000   \n",
       "19  Westeros        LED       710       710  standard  year   74.545455   \n",
       "20  Westeros        LED       720       720  standard  year    0.000000   \n",
       "\n",
       "             mrg  \n",
       "0       0.000000  \n",
       "1       0.000000  \n",
       "2       0.000000  \n",
       "3       0.000000  \n",
       "4   20892.237165  \n",
       "5   20980.715364  \n",
       "6       0.000000  \n",
       "7       0.000000  \n",
       "8       0.000000  \n",
       "9       0.000000  \n",
       "10      0.000000  \n",
       "11      0.000000  \n",
       "12      0.000000  \n",
       "13      0.000000  \n",
       "14      0.000000  \n",
       "15   5553.331366  \n",
       "16   3385.321932  \n",
       "17      0.000000  \n",
       "18      0.000000  \n",
       "19      0.000000  \n",
       "20     35.236283  "
      ]
     },
     "execution_count": 54,
     "metadata": {},
     "output_type": "execute_result"
    }
   ],
   "source": [
    "scen_tax.var('ACT')"
   ]
  },
  {
   "cell_type": "markdown",
   "id": "31ff7725",
   "metadata": {},
   "source": [
    "##### Capacity\n",
    "\n",
    "How much capacity of each plant is installed in each period?"
   ]
  },
  {
   "cell_type": "code",
   "execution_count": 55,
   "id": "e57c30eb",
   "metadata": {
    "scrolled": true
   },
   "outputs": [
    {
     "data": {
      "text/plain": [
       "<AxesSubplot:title={'center':'Westeros Energy System Capacity'}, xlabel='Year', ylabel='GW'>"
      ]
     },
     "execution_count": 55,
     "metadata": {},
     "output_type": "execute_result"
    },
    {
     "data": {
      "image/png": "[encoded data removed]",
      "text/plain": [
       "<Figure size 432x288 with 1 Axes>"
      ]
     },
     "metadata": {
      "needs_background": "light"
     },
     "output_type": "display_data"
    }
   ],
   "source": [
    "rep2.set_filters(t=[\"coal_ppl\", \"wind_ppl\"])\n",
    "rep2.get(\"plot capacity\")"
   ]
  },
  {
   "cell_type": "markdown",
   "id": "34fd7676",
   "metadata": {},
   "source": [
    "##### New capacity\n",
    "\n",
    "How much new capacity is installed in each period? Notice that the new installed capacity requires additional investments."
   ]
  },
  {
   "cell_type": "code",
   "execution_count": 56,
   "id": "d71d389d",
   "metadata": {
    "scrolled": true
   },
   "outputs": [
    {
     "data": {
      "text/plain": [
       "<AxesSubplot:title={'center':'Westeros Energy System New Capacity'}, xlabel='Year', ylabel='GWa'>"
      ]
     },
     "execution_count": 56,
     "metadata": {},
     "output_type": "execute_result"
    },
    {
     "data": {
      "image/png": "[encoded data removed]",
      "text/plain": [
       "<Figure size 432x288 with 1 Axes>"
      ]
     },
     "metadata": {
      "needs_background": "light"
     },
     "output_type": "display_data"
    }
   ],
   "source": [
    "rep2.get(\"plot new capacity\")"
   ]
  },
  {
   "cell_type": "markdown",
   "id": "494fcbca",
   "metadata": {},
   "source": [
    "##### Electricity Prices\n"
   ]
  },
  {
   "cell_type": "code",
   "execution_count": 57,
   "id": "2f65cf73",
   "metadata": {
    "scrolled": true
   },
   "outputs": [
    {
     "data": {
      "text/plain": [
       "<AxesSubplot:title={'center':'Westeros Energy System Prices'}, xlabel='Year', ylabel='¢/kW·h'>"
      ]
     },
     "execution_count": 57,
     "metadata": {},
     "output_type": "execute_result"
    },
    {
     "data": {
      "image/png": "[encoded data removed]",
      "text/plain": [
       "<Figure size 432x288 with 1 Axes>"
      ]
     },
     "metadata": {
      "needs_background": "light"
     },
     "output_type": "display_data"
    }
   ],
   "source": [
    "# Replace the technology filters with a commodity filter;\n",
    "# show only \"light\" and not e.g. \"electricity\".\n",
    "rep2.set_filters(c=[\"light\"])\n",
    "\n",
    "# Create a price plot\n",
    "rep2.get(\"plot prices\")"
   ]
  },
  {
   "cell_type": "code",
   "execution_count": 58,
   "id": "28a996ef",
   "metadata": {},
   "outputs": [],
   "source": [
    "mp.close_db()"
   ]
  },
  {
   "cell_type": "markdown",
   "id": "f45baea2",
   "metadata": {},
   "source": [
    "## 3. Changes in the diffusion rates of the technology (on baseline)\n",
    "Relating the technology in the current period to the technology in the previous period\n",
    "\n",
    "This section analyses the influence of the diffusion rates of the technology on the the share of the generation technologies. Different ranges of technology diffusion rates were analyzed based on literature. Considering the absence of historic values of LED, an initial year value was assigned to the technology "
   ]
  },
  {
   "cell_type": "code",
   "execution_count": 59,
   "id": "926bf2a4",
   "metadata": {},
   "outputs": [],
   "source": [
    "mp = ixmp.Platform()"
   ]
  },
  {
   "cell_type": "code",
   "execution_count": 60,
   "id": "2e4d1b1f",
   "metadata": {},
   "outputs": [],
   "source": [
    "#mp.scenario_list()"
   ]
  },
  {
   "cell_type": "code",
   "execution_count": 61,
   "id": "1b5bad26",
   "metadata": {},
   "outputs": [],
   "source": [
    "## cloning the baseline scenarion (Note: The LED costs are high here)\n",
    "\n",
    "base = message_ix.Scenario(mp, model=model, scenario=\"baseline\")\n",
    "scenario_diff = base.clone(\n",
    "    model,\n",
    "    keep_solution=False,\n",
    ")\n",
    "\n",
    "scenario_diff.check_out()"
   ]
  },
  {
   "cell_type": "code",
   "execution_count": 62,
   "id": "e16d7c24",
   "metadata": {},
   "outputs": [
    {
     "data": {
      "text/plain": [
       "54.794520547945204"
      ]
     },
     "execution_count": 62,
     "metadata": {},
     "output_type": "execute_result"
    }
   ],
   "source": [
    "demand_per_year"
   ]
  },
  {
   "cell_type": "markdown",
   "id": "d65be5ad",
   "metadata": {},
   "source": [
    "### Diffusion rates assigned for led\n",
    "The led_initial_activity_up results in the pre-defined existance of certain LED use such that future year growth is calculated based on it"
   ]
  },
  {
   "cell_type": "code",
   "execution_count": 63,
   "id": "6bdc1eef",
   "metadata": {},
   "outputs": [],
   "source": [
    "\n",
    "## intital activity up for LED\n",
    "df_led_initial_activity_up = make_df(\n",
    "    \"initial_activity_up\",\n",
    "        node_loc=country,\n",
    "        year_act=model_horizon[0],\n",
    "        time=\"year\",\n",
    "        unit=\"-\",\n",
    "        technology=\"LED\",\n",
    "        value=0.5,\n",
    "    )\n",
    "scenario_diff.add_par(\"initial_activity_up\", df_led_initial_activity_up)\n",
    "\n",
    "## adding LED growth rate\n",
    "df_led_difussion = make_df(\n",
    "        \"growth_activity_up\",\n",
    "        node_loc=country,\n",
    "        year_act=model_horizon,\n",
    "        time=\"year\",\n",
    "        unit=\"-\",\n",
    "        technology='LED',\n",
    "        value=0.23, ## based on literature lED diffusion rate is ~23% for every 10 years\n",
    "    )\n",
    "scenario_diff.add_par(\"growth_activity_up\", df_led_difussion)  "
   ]
  },
  {
   "cell_type": "code",
   "execution_count": 64,
   "id": "5b7ea2be",
   "metadata": {},
   "outputs": [],
   "source": [
    "log.info(f\"version number before commit(): {scenario_diff.version}\")\n",
    "\n",
    "scenario_diff.commit(comment=\"basic model of Westeros electrification\")\n",
    "\n",
    "log.info(f\"version number after commit(): {scenario_diff.version}\")"
   ]
  },
  {
   "cell_type": "code",
   "execution_count": 65,
   "id": "79803791",
   "metadata": {},
   "outputs": [],
   "source": [
    "scenario_diff.set_as_default()"
   ]
  },
  {
   "cell_type": "code",
   "execution_count": 66,
   "id": "6d79ed4e",
   "metadata": {},
   "outputs": [],
   "source": [
    "scenario_diff.solve()"
   ]
  },
  {
   "cell_type": "code",
   "execution_count": 67,
   "id": "18d5b2d3",
   "metadata": {},
   "outputs": [
    {
     "data": {
      "text/plain": [
       "169330.765625"
      ]
     },
     "execution_count": 67,
     "metadata": {},
     "output_type": "execute_result"
    }
   ],
   "source": [
    "scenario_diff.var(\"OBJ\")[\"lvl\"]"
   ]
  },
  {
   "cell_type": "code",
   "execution_count": 68,
   "id": "1d5f2139",
   "metadata": {},
   "outputs": [],
   "source": [
    "rep = Reporter.from_scenario(scenario_diff)\n",
    "\n",
    "# Add keys like \"plot activity\" to describe reporting operations.\n",
    "# See tutorial/utils/plotting.py\n",
    "from message_ix.util.tutorial import prepare_plots\n",
    "\n",
    "prepare_plots(rep)"
   ]
  },
  {
   "cell_type": "code",
   "execution_count": 69,
   "id": "1c4e51eb",
   "metadata": {},
   "outputs": [],
   "source": [
    "#rep.get('all')"
   ]
  },
  {
   "cell_type": "code",
   "execution_count": 70,
   "id": "f5f562ba",
   "metadata": {},
   "outputs": [
    {
     "data": {
      "text/plain": [
       "<AxesSubplot:title={'center':'Westeros Energy System Activity'}, xlabel='Year', ylabel='GWa'>"
      ]
     },
     "execution_count": 70,
     "metadata": {},
     "output_type": "execute_result"
    },
    {
     "data": {
      "image/png": "[encoded data removed]",
      "text/plain": [
       "<Figure size 432x288 with 1 Axes>"
      ]
     },
     "metadata": {
      "needs_background": "light"
     },
     "output_type": "display_data"
    }
   ],
   "source": [
    "rep.set_filters(t=[\"coal_ppl\", \"wind_ppl\"])\n",
    "rep.get(\"plot activity\")"
   ]
  },
  {
   "cell_type": "code",
   "execution_count": 71,
   "id": "ddf58f16",
   "metadata": {},
   "outputs": [
    {
     "data": {
      "text/plain": [
       "<AxesSubplot:title={'center':'Westeros Energy System Activity'}, xlabel='Year', ylabel='GWa'>"
      ]
     },
     "execution_count": 71,
     "metadata": {},
     "output_type": "execute_result"
    },
    {
     "data": {
      "image/png": "[encoded data removed]",
      "text/plain": [
       "<Figure size 432x288 with 1 Axes>"
      ]
     },
     "metadata": {
      "needs_background": "light"
     },
     "output_type": "display_data"
    }
   ],
   "source": [
    "rep.set_filters(t=[\"bulb\", \"LED\"])\n",
    "rep.get(\"plot activity\")"
   ]
  },
  {
   "cell_type": "code",
   "execution_count": 72,
   "id": "024c1c85",
   "metadata": {},
   "outputs": [
    {
     "data": {
      "text/plain": [
       "<AxesSubplot:title={'center':'Westeros Energy System Capacity'}, xlabel='Year', ylabel='GW'>"
      ]
     },
     "execution_count": 72,
     "metadata": {},
     "output_type": "execute_result"
    },
    {
     "data": {
      "image/png": "[encoded data removed]",
      "text/plain": [
       "<Figure size 432x288 with 1 Axes>"
      ]
     },
     "metadata": {
      "needs_background": "light"
     },
     "output_type": "display_data"
    }
   ],
   "source": [
    "rep.set_filters(t=[\"coal_ppl\", \"wind_ppl\"])\n",
    "rep.get(\"plot capacity\")"
   ]
  },
  {
   "cell_type": "code",
   "execution_count": 73,
   "id": "4ee82437",
   "metadata": {},
   "outputs": [
    {
     "data": {
      "text/plain": [
       "<AxesSubplot:title={'center':'Westeros Energy System New Capacity'}, xlabel='Year', ylabel='GWa'>"
      ]
     },
     "execution_count": 73,
     "metadata": {},
     "output_type": "execute_result"
    },
    {
     "data": {
      "image/png": "[encoded data removed]",
      "text/plain": [
       "<Figure size 432x288 with 1 Axes>"
      ]
     },
     "metadata": {
      "needs_background": "light"
     },
     "output_type": "display_data"
    }
   ],
   "source": [
    "rep.get(\"plot new capacity\")"
   ]
  },
  {
   "cell_type": "code",
   "execution_count": 74,
   "id": "ea48e9ff",
   "metadata": {},
   "outputs": [
    {
     "data": {
      "text/plain": [
       "<AxesSubplot:title={'center':'Westeros Energy System Prices'}, xlabel='Year', ylabel='¢/kW·h'>"
      ]
     },
     "execution_count": 74,
     "metadata": {},
     "output_type": "execute_result"
    },
    {
     "data": {
      "image/png": "[encoded data removed]",
      "text/plain": [
       "<Figure size 432x288 with 1 Axes>"
      ]
     },
     "metadata": {
      "needs_background": "light"
     },
     "output_type": "display_data"
    }
   ],
   "source": [
    "rep.set_filters(c=[\"light\"])\n",
    "\n",
    "# Create a price plot\n",
    "rep.get(\"plot prices\")"
   ]
  },
  {
   "cell_type": "code",
   "execution_count": 75,
   "id": "793d12c0",
   "metadata": {},
   "outputs": [],
   "source": [
    "mp.close_db()"
   ]
  },
  {
   "cell_type": "markdown",
   "id": "9b7f57dc",
   "metadata": {},
   "source": [
    "### Conclusions"
   ]
  },
  {
   "cell_type": "markdown",
   "id": "7b038828",
   "metadata": {},
   "source": [
    "1. To replicate the desired result of 100% supply from bulb even with the inclusion of LED technology, the cost of the LED had to be increased unrealistically (2000 times of the bulb). Else, due to higher benifits of LED with regards to efficeincy and lifetime, the model would still choose LED ( for all prices below 2000 times)\n",
    "\n",
    "2. Due to the high costs assigned to the LED, realistic emission taxes did not seem to alter the model's decision to select LED over bulb though the generation did change to 100% Wind from coal.\n",
    "\n",
    "3. The diffusion rate largely affects the changes in the combination of the generation technologies. With the increased diffiusion rate of the LED, the reduction in the activity is expected to provide higher share of Wind use and installation, compenstating for its lower capacity factor. However, implementing the diffusion rates in the baseline scenario, the effect is not seen as 1. the cost of LED is too high and 2. without the emission taxes wind is very expensive. However once the LED prices are reduced, increase in Wind Generation share is observed.\n",
    "\n",
    "\n",
    "\n",
    "\n",
    "\n",
    "\n"
   ]
  },
  {
   "cell_type": "markdown",
   "id": "ff639789",
   "metadata": {},
   "source": [
    "## Reference\n",
    "[1] InLine Electric, 2022<br>\n",
    "https://www.inlineelectric.com/lifespan#:~:text=One%20of%20the%20biggest%20advantages,for%20at%20least%2020%20years\n",
    "\n",
    "[2] IIASA Energy, Climate, and Environment (ECE)<br>\n",
    "https://docs.messageix.org/projects/global/en/latest/energy/tech.html\n",
    "\n"
   ]
  },
  {
   "cell_type": "markdown",
   "id": "9b44f8c5",
   "metadata": {},
   "source": [
    "## License\n",
    "\n",
    "   [<img style=\"float: right;\" src=\"https://img.shields.io/badge/License-Apache%202.0-blue.svg\">](https://opensource.org/licenses/Apache-2.0)\n",
    "\n",
    "   Copyright 2022 Aadit Malla\n",
    "\n",
    "   Licensed under the Apache License, Version 2.0 (the \"License\");\n",
    "   you may not use this file except in compliance with the License.\n",
    "   You may obtain a copy of the License at\n",
    "\n",
    "     http://www.apache.org/licenses/LICENSE-2.0\n",
    "\n",
    "   Unless required by applicable law or agreed to in writing, software\n",
    "   distributed under the License is distributed on an \"AS IS\" BASIS,\n",
    "   WITHOUT WARRANTIES OR CONDITIONS OF ANY KIND, either express or implied.\n",
    "   See the License for the specific language governing permissions and\n",
    "   limitations under the License."
   ]
  }
 ],
 "metadata": {
  "kernelspec": {
   "display_name": "Python 3 (ipykernel)",
   "language": "python",
   "name": "python3"
  },
  "language_info": {
   "codemirror_mode": {
    "name": "ipython",
    "version": 3
   },
   "file_extension": ".py",
   "mimetype": "text/x-python",
   "name": "python",
   "nbconvert_exporter": "python",
   "pygments_lexer": "ipython3",
   "version": "3.10.4"
  }
 },
 "nbformat": 4,
 "nbformat_minor": 5
}
